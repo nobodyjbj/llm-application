{
 "cells": [
  {
   "cell_type": "markdown",
   "metadata": {},
   "source": [
    "1. 문서의 내용을 읽는다.\n",
    "2. 문서를 쪼갠다\n",
    "    - 토큰수 초과로 답변을 생성하지 못할 수 있고\n",
    "    - 문서가 길면 (인풋이 길면) 답변 생성이 오래걸림\n",
    "3. 임베딩 -> 벡터 데이터베이스에 저장\n",
    "4. 질문이 있을 때, 백터 데이터베이스에 유사도 검색\n",
    "5. 유사도 검색으로 가져온 문서를 LLM에 질문과 같이 전달"
   ]
  },
  {
   "cell_type": "code",
   "execution_count": null,
   "metadata": {},
   "outputs": [],
   "source": [
    "%pip install --upgrade --quiet  docx2txt\n",
    "%pip install --upgrade --quiet  langchain-community"
   ]
  },
  {
   "cell_type": "code",
   "execution_count": null,
   "metadata": {},
   "outputs": [],
   "source": [
    "from langchain_community.document_loaders import Docx2txtLoader\n",
    "from langchain_text_splitters import RecursiveCharacterTextSplitter\n",
    "from langchain_openai import OpenAIEmbeddings\n",
    "from dotenv import load_dotenv\n",
    "\n",
    "load_dotenv()\n",
    "\n",
    "text_splitter = RecursiveCharacterTextSplitter(\n",
    "    chunk_size=1500,\n",
    "    chunk_overlap=200,\n",
    ")\n",
    "\n",
    "embedding = OpenAIEmbeddings(model=\"text-embedding-3-large\")\n",
    "\n",
    "loader = Docx2txtLoader(\"./tax.docx\")\n",
    "document_list = loader.load_and_split(text_splitter=text_splitter)\n",
    "\n",
    "document_list"
   ]
  },
  {
   "cell_type": "code",
   "execution_count": null,
   "metadata": {},
   "outputs": [],
   "source": [
    "%pip install langchain-chroma"
   ]
  },
  {
   "cell_type": "code",
   "execution_count": 5,
   "metadata": {},
   "outputs": [],
   "source": [
    "from langchain_chroma import Chroma\n",
    "\n",
    "database = Chroma.from_documents(documents=document_list, embedding=embedding, collection_name=\"tax\", persist_directory=\"./chroma\")\n"
   ]
  },
  {
   "cell_type": "code",
   "execution_count": null,
   "metadata": {},
   "outputs": [],
   "source": [
    "query = '연봉 5천만원인 직장인의 소득세는 얼마인가?'\n",
    "retrieved_docs = database.similarity_search(query, k=3)\n",
    "retrieved_docs"
   ]
  },
  {
   "cell_type": "code",
   "execution_count": 7,
   "metadata": {},
   "outputs": [],
   "source": [
    "from langchain_openai import ChatOpenAI\n",
    "\n",
    "llm = ChatOpenAI(model_name=\"gpt-4o-mini\")\n",
    "\n",
    "# prompt = f\"\"\"[Identity]\n",
    "\n",
    "# - 당신은 최고의 한국 소득세 전문가 입니다.\n",
    "# - [Context]를 참고해서 사용자의 질문에 답변해주세요.\n",
    "\n",
    "# [Context]\n",
    "# {retrieved_docs}\n",
    "\n",
    "# Question: {query}\n",
    "# \"\"\"\n",
    "\n",
    "# ai_message = llm.invoke(prompt)\n",
    "# ai_message.content"
   ]
  },
  {
   "cell_type": "code",
   "execution_count": null,
   "metadata": {},
   "outputs": [],
   "source": [
    "%pip install --upgrade --quiet langchain-community langchain langchain-openai faiss-cpu"
   ]
  },
  {
   "cell_type": "code",
   "execution_count": null,
   "metadata": {},
   "outputs": [],
   "source": [
    "from langchain_openai import ChatOpenAI\n",
    "from langchain_community.document_loaders import Docx2txtLoader\n",
    "from langchain_text_splitters import RecursiveCharacterTextSplitter\n",
    "from langchain_openai import OpenAIEmbeddings\n",
    "from langchain import hub\n",
    "from langchain.chains import RetrievalQA\n",
    "from langchain_chroma import Chroma\n",
    "\n",
    "from dotenv import load_dotenv\n",
    "\n",
    "load_dotenv()\n",
    "\n",
    "# 모델 설정\n",
    "llm = ChatOpenAI(model_name=\"gpt-4o-mini\")\n",
    "\n",
    "# Knowledge Base 구성을 위한 데이터 생성\n",
    "# - RecursiveCharacterTextSplitter를 활용한 데이터 chunking\n",
    "#   - split 된 데이터 chunk를 Large Language Model(LLM)에게 전달하면 토큰 절약 가능\n",
    "#   - 비용 감소와 답변 생성시간 감소의 효과\n",
    "#   - LangChain에서 다양한 TextSplitter들을 제공\n",
    "# - chunk_size 는 split 된 chunk의 최대 크기\n",
    "# - chunk_overlap은 앞 뒤로 나뉘어진 chunk들이 얼마나 겹쳐도 되는지 지정\n",
    "text_splitter = RecursiveCharacterTextSplitter(\n",
    "    chunk_size=1500,\n",
    "    chunk_overlap=200,\n",
    ")\n",
    "loader = Docx2txtLoader(\"./tax.docx\")\n",
    "document_list = loader.load_and_split(text_splitter=text_splitter)\n",
    "\n",
    "# OpenAI에서 제공하는 Embedding Model을 활용해서 `chunk`를 vector화\n",
    "embedding = OpenAIEmbeddings(model=\"text-embedding-3-large\")\n",
    "\n",
    "# 데이터를 처음 저장할 때 \n",
    "# database = Chroma.from_documents(documents=document_list, embedding=embedding, collection_name=\"tax\", persist_directory=\"./chroma\")\n",
    "\n",
    "# 이미 저장된 데이터를 사용할 때 \n",
    "database = Chroma(collection_name='chroma-tax', persist_directory=\"./chroma\", embedding_function=embedding)\n",
    "\n",
    "# 답변 생성을 위한 Retrieval\n",
    "query = '연봉 5천만원인 직장인의 소득세는 얼마인가?'\n",
    "\n",
    "# `k` 값을 조절해서 얼마나 많은 데이터를 불러올지 결정\n",
    "retrieved_docs = database.similarity_search(query, k=3)\n",
    "\n",
    "# Augmentation을 위한 Prompt 활용\n",
    "# - Retrieval된 데이터는 LangChain에서 제공하는 프롬프트(\"rlm/rag-prompt\") 사용\n",
    "system_prompt = f\"\"\"[Identity]\n",
    "\n",
    "- 당신은 최고의 한국 소득세 전문가 입니다.\n",
    "- [Context]를 참고해서 사용자의 질문에 답변해주세요.\n",
    "\n",
    "[Context]\n",
    "\"{retrieved_docs}\"\n",
    "\n",
    "Question: {query}\n",
    "\"\"\"\n",
    "prompt = hub.pull(\"rlm/rag-prompt\")\n",
    "\n",
    "# 답변 생성\n",
    "qa_chain = RetrievalQA.from_chain_type(\n",
    "    llm, \n",
    "    retriever=database.as_retriever(),\n",
    "    chain_type_kwargs={\"prompt\": prompt}\n",
    ")\n",
    "\n",
    "ai_message = qa_chain.invoke({\"query\": query})\n",
    "ai_message"
   ]
  },
  {
   "cell_type": "code",
   "execution_count": 1,
   "metadata": {},
   "outputs": [],
   "source": []
  },
  {
   "cell_type": "code",
   "execution_count": null,
   "metadata": {},
   "outputs": [],
   "source": []
  }
 ],
 "metadata": {
  "kernelspec": {
   "display_name": "Python 3",
   "language": "python",
   "name": "python3"
  },
  "language_info": {
   "codemirror_mode": {
    "name": "ipython",
    "version": 3
   },
   "file_extension": ".py",
   "mimetype": "text/x-python",
   "name": "python",
   "nbconvert_exporter": "python",
   "pygments_lexer": "ipython3",
   "version": "3.11.9"
  }
 },
 "nbformat": 4,
 "nbformat_minor": 2
}
