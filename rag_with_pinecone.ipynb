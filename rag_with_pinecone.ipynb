{
 "cells": [
  {
   "cell_type": "code",
   "execution_count": 1,
   "metadata": {},
   "outputs": [
    {
     "name": "stdout",
     "output_type": "stream",
     "text": [
      "Note: you may need to restart the kernel to use updated packages.\n"
     ]
    }
   ],
   "source": [
    "%pip install -qU langchain-pinecone"
   ]
  },
  {
   "cell_type": "code",
   "execution_count": 1,
   "metadata": {},
   "outputs": [
    {
     "name": "stderr",
     "output_type": "stream",
     "text": [
      "/Users/undefinedkosmos/.pyenv/versions/3.11.9/lib/python3.11/site-packages/pinecone/data/index.py:1: TqdmWarning: IProgress not found. Please update jupyter and ipywidgets. See https://ipywidgets.readthedocs.io/en/stable/user_install.html\n",
      "  from tqdm.autonotebook import tqdm\n"
     ]
    }
   ],
   "source": [
    "import os\n",
    "\n",
    "from pinecone import Pinecone\n",
    "from langchain_pinecone import PineconeVectorStore\n",
    "\n",
    "pinecone_api_key = os.environ.get(\"PINECONE_API_KEY\")\n",
    "\n",
    "pc = Pinecone(api_key=pinecone_api_key)"
   ]
  },
  {
   "cell_type": "code",
   "execution_count": 2,
   "metadata": {},
   "outputs": [
    {
     "data": {
      "text/plain": [
       "{'input': '연봉 5천만원인 직장인의 소득세는 얼마인가?',\n",
       " 'context': [],\n",
       " 'answer': \"To calculate the income tax for an employee with an annual salary of 50 million KRW in South Korea, we need to consider the progressive tax rates applicable for the year 2023.\\n\\nAs of 2023, the income tax brackets for individuals in South Korea are as follows:\\n\\n1. 6% on income up to 12 million KRW\\n2. 15% on income over 12 million KRW up to 46 million KRW\\n3. 24% on income over 46 million KRW up to 88 million KRW\\n4. 35% on income over 88 million KRW up to 150 million KRW\\n5. 38% on income over 150 million KRW up to 300 million KRW\\n6. 40% on income over 300 million KRW\\n\\nHere's how to calculate the income tax for an annual salary of 50 million KRW:\\n\\n1. Income up to 12 million KRW:\\n   - Tax: 12,000,000 KRW × 6% = 720,000 KRW\\n\\n2. Income from 12 million KRW to 46 million KRW (34 million KRW):\\n   - Tax: 34,000,000 KRW × 15% = 5,100,000 KRW\\n\\n3. Income from 46 million KRW to 50 million KRW (4 million KRW):\\n   - Tax: 4,000,000 KRW × 24% = 960,000 KRW\\n\\nNow, we sum these amounts to get the total income tax:\\n\\n- Total Tax = 720,000 KRW + 5,100,000 KRW + 960,000 KRW = 6,780,000 KRW\\n\\nTherefore, the estimated income tax for an employee earning 50 million KRW annually would be approximately 6,780,000 KRW. Please note that this calculation does not consider any deductions, credits, or additional taxes that might apply.\"}"
      ]
     },
     "execution_count": 2,
     "metadata": {},
     "output_type": "execute_result"
    }
   ],
   "source": [
    "from dotenv import load_dotenv\n",
    "from langchain_openai import ChatOpenAI\n",
    "from langchain_text_splitters import RecursiveCharacterTextSplitter\n",
    "from langchain_community.document_loaders import Docx2txtLoader\n",
    "from langchain_openai import OpenAIEmbeddings\n",
    "from langchain.chains import create_retrieval_chain\n",
    "from langchain.chains.combine_documents import create_stuff_documents_chain\n",
    "from langchain_core.prompts import ChatPromptTemplate\n",
    "\n",
    "\n",
    "load_dotenv()\n",
    "\n",
    "llm = ChatOpenAI(model_name=\"gpt-4o-mini\")\n",
    "\n",
    "text_splitter = RecursiveCharacterTextSplitter(\n",
    "    chunk_size=1500,\n",
    "    chunk_overlap=200,\n",
    ")\n",
    "loader = Docx2txtLoader(\"./tax.docx\")\n",
    "docs = loader.load_and_split(text_splitter=text_splitter)\n",
    "embedding = OpenAIEmbeddings(model=\"text-embedding-3-large\")\n",
    "\n",
    "# Pinecon 사용으로 변경\n",
    "index_name = \"tax-index\"\n",
    "vectorstore = PineconeVectorStore.from_documents(documents=docs, embedding=embedding, index_name=index_name)\n",
    "retriever = vectorstore.as_retriever()\n",
    "\n",
    "system_prompt = \"\"\"\n",
    "    - 당신은 최고의 한국 소득세 전문가 입니다.\n",
    "    - 답변은 영어로 제공해주세요.\n",
    "    - [Context]를 참고해서 사용자의 질문에 답변해주세요.\n",
    "    \n",
    "    [Context]\n",
    "    {context}\n",
    "\"\"\"\n",
    "\n",
    "prompt = ChatPromptTemplate.from_messages(\n",
    "    [\n",
    "        (\"system\", system_prompt),\n",
    "        (\"human\", \"{input}\"),\n",
    "    ]\n",
    ")\n",
    "\n",
    "question_answer_chain = create_stuff_documents_chain(llm, prompt)\n",
    "rag_chain = create_retrieval_chain(retriever, question_answer_chain)\n",
    "\n",
    "input = '연봉 5천만원인 직장인의 소득세는 얼마인가?'\n",
    "result = rag_chain.invoke({\"input\": input})\n",
    "result"
   ]
  }
 ],
 "metadata": {
  "kernelspec": {
   "display_name": "Python 3",
   "language": "python",
   "name": "python3"
  },
  "language_info": {
   "codemirror_mode": {
    "name": "ipython",
    "version": 3
   },
   "file_extension": ".py",
   "mimetype": "text/x-python",
   "name": "python",
   "nbconvert_exporter": "python",
   "pygments_lexer": "ipython3",
   "version": "3.11.9"
  }
 },
 "nbformat": 4,
 "nbformat_minor": 2
}
