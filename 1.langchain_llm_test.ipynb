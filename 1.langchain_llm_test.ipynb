{
 "cells": [
  {
   "cell_type": "code",
   "execution_count": 3,
   "metadata": {},
   "outputs": [],
   "source": [
    "# 설치 명령어\n",
    "# #%pip install langchain-openai python-dotenv"
   ]
  },
  {
   "cell_type": "code",
   "execution_count": 2,
   "metadata": {},
   "outputs": [
    {
     "data": {
      "text/plain": [
       "True"
      ]
     },
     "execution_count": 2,
     "metadata": {},
     "output_type": "execute_result"
    }
   ],
   "source": [
    "from dotenv import load_dotenv\n",
    "load_dotenv()\n"
   ]
  },
  {
   "cell_type": "code",
   "execution_count": 7,
   "metadata": {},
   "outputs": [
    {
     "data": {
      "text/plain": [
       "'경기침체(景氣沈滯)는 경제 활동이 전반적으로 감소하거나 둔화되는 상태를 의미합니다. 일반적으로 국내총생산(GDP)이 두 분기 연속으로 감소하는 경우를 경기침체로 정의합니다. 경기침체의 주요 특징은 다음과 같습니다.\\n\\n1. **소비 감소**: 소비자들이 지출을 줄이게 되어, 기업의 매출이 감소합니다.\\n2. **실업 증가**: 기업들이 비용 절감을 위해 인력을 줄이거나 신규 고용을 줄이게 되어 실업률이 증가합니다.\\n3. **투자 감소**: 기업들이 불확실한 경제 상황 때문에 신규 투자에 소극적이 됩니다.\\n4. **수출 감소**: 글로벌 경제 상황이 좋지 않을 경우, 수출 또한 감소할 수 있습니다.\\n\\n경기침체는 주기적으로 발생하는 경제 현상으로, 정부와 중앙은행은 경기 부양을 위해 금리 인하, 재정 지출 확대 등의 정책을 시행할 수 있습니다.'"
      ]
     },
     "execution_count": 7,
     "metadata": {},
     "output_type": "execute_result"
    }
   ],
   "source": [
    "from langchain_openai import ChatOpenAI\n",
    "\n",
    "llm = ChatOpenAI(model_name=\"gpt-4o-mini\")\n",
    "\n",
    "ai_message = llm.invoke(\"경기침체가 무엇인가요?\")\n",
    "ai_message.content"
   ]
  },
  {
   "cell_type": "code",
   "execution_count": null,
   "metadata": {},
   "outputs": [],
   "source": []
  }
 ],
 "metadata": {
  "kernelspec": {
   "display_name": "Python 3",
   "language": "python",
   "name": "python3"
  },
  "language_info": {
   "codemirror_mode": {
    "name": "ipython",
    "version": 3
   },
   "file_extension": ".py",
   "mimetype": "text/x-python",
   "name": "python",
   "nbconvert_exporter": "python",
   "pygments_lexer": "ipython3",
   "version": "3.11.9"
  }
 },
 "nbformat": 4,
 "nbformat_minor": 2
}
